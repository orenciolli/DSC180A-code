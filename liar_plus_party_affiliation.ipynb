{
 "cells": [
  {
   "cell_type": "code",
   "execution_count": 1,
   "id": "b323fa71",
   "metadata": {},
   "outputs": [],
   "source": [
    "import pandas as pd\n",
    "import numpy as np\n",
    "import matplotlib.pyplot as plt\n",
    "from matplotlib.colors import ListedColormap\n",
    "from sklearn.model_selection import train_test_split\n",
    "from sklearn.preprocessing import StandardScaler\n",
    "from sklearn.feature_extraction.text import TfidfVectorizer\n",
    "from sklearn.datasets import make_moons, make_circles, make_classification\n",
    "from sklearn.neural_network import MLPClassifier\n",
    "from sklearn.neighbors import KNeighborsClassifier\n",
    "from sklearn.svm import SVC\n",
    "from sklearn.gaussian_process import GaussianProcessClassifier\n",
    "from sklearn.gaussian_process.kernels import RBF\n",
    "from sklearn.tree import DecisionTreeClassifier\n",
    "from sklearn.ensemble import RandomForestClassifier, AdaBoostClassifier\n",
    "from sklearn.naive_bayes import GaussianNB\n",
    "from sklearn.discriminant_analysis import QuadraticDiscriminantAnalysis"
   ]
  },
  {
   "cell_type": "code",
   "execution_count": 2,
   "id": "988376fd",
   "metadata": {},
   "outputs": [],
   "source": [
    "df = pd.read_csv('liar_plus/train2.tsv', delimiter='\\t', header = None)"
   ]
  },
  {
   "cell_type": "code",
   "execution_count": 3,
   "id": "e1dee3d5",
   "metadata": {},
   "outputs": [],
   "source": [
    "df = df.drop(columns = [0])"
   ]
  },
  {
   "cell_type": "code",
   "execution_count": 4,
   "id": "418ed7c1",
   "metadata": {},
   "outputs": [],
   "source": [
    "df.rename({1: 'id', 2: 'label', 3: 'statement', 4: 'subject', 5: 'speaker', 6: 'job-title',\n",
    "           7: 'state_info', 8: 'party_affiliation', 9: 'barely_true_counts', 10: 'false_counts',\n",
    "           11: 'half_true_counts', 12: 'mostly_true_counts', 13: 'pants_on_fire_counts', 14: 'context',\n",
    "           15: 'justification'\n",
    "          }, axis = 1, inplace = True)"
   ]
  },
  {
   "cell_type": "code",
   "execution_count": 5,
   "id": "75a587b6",
   "metadata": {},
   "outputs": [
    {
     "data": {
      "text/plain": [
       "party_affiliation\n",
       "republican                      4497\n",
       "democrat                        3336\n",
       "none                            1744\n",
       "organization                     219\n",
       "independent                      147\n",
       "newsmaker                         56\n",
       "libertarian                       40\n",
       "activist                          39\n",
       "journalist                        38\n",
       "columnist                         35\n",
       "talk-show-host                    26\n",
       "state-official                    20\n",
       "labor-leader                      11\n",
       "tea-party-member                  10\n",
       "business-leader                    9\n",
       "green                              3\n",
       "education-official                 2\n",
       "liberal-party-canada               1\n",
       "government-body                    1\n",
       "Moderate                           1\n",
       "democratic-farmer-labor            1\n",
       "ocean-state-tea-party-action       1\n",
       "constitution-party                 1\n",
       "Name: count, dtype: int64"
      ]
     },
     "execution_count": 5,
     "metadata": {},
     "output_type": "execute_result"
    }
   ],
   "source": [
    "df['party_affiliation'].value_counts()"
   ]
  },
  {
   "cell_type": "code",
   "execution_count": 6,
   "id": "c3c28ec8",
   "metadata": {},
   "outputs": [],
   "source": [
    "uninformative = {'organization', 'newsmaker', 'activist', 'state-official', 'government-body',\n",
    "'journalist', 'columnist', 'talk-show-host', 'education-official', 'business-leader', \n",
    " 'Moderate', 'democratic-farmer-labor', 'ocean-state-tea-party-action' }\n",
    "df = df[~df['party_affiliation'].isin(uninformative)]"
   ]
  },
  {
   "cell_type": "code",
   "execution_count": 7,
   "id": "9e7db1e6",
   "metadata": {},
   "outputs": [],
   "source": [
    "df = df[~(df['statement'].isna() | df['party_affiliation'].isna())]"
   ]
  },
  {
   "cell_type": "code",
   "execution_count": 8,
   "id": "bc5ef614",
   "metadata": {},
   "outputs": [
    {
     "data": {
      "text/plain": [
       "party_affiliation\n",
       "republican              4497\n",
       "democrat                3336\n",
       "none                    1744\n",
       "independent              147\n",
       "libertarian               40\n",
       "labor-leader              11\n",
       "tea-party-member          10\n",
       "green                      3\n",
       "liberal-party-canada       1\n",
       "constitution-party         1\n",
       "Name: count, dtype: int64"
      ]
     },
     "execution_count": 8,
     "metadata": {},
     "output_type": "execute_result"
    }
   ],
   "source": [
    "df['party_affiliation'].value_counts()"
   ]
  },
  {
   "cell_type": "markdown",
   "id": "896f66da",
   "metadata": {},
   "source": [
    "# Baseline model (non-deep)"
   ]
  },
  {
   "cell_type": "code",
   "execution_count": 9,
   "id": "4b802915",
   "metadata": {},
   "outputs": [
    {
     "name": "stdout",
     "output_type": "stream",
     "text": [
      "KNeighborsClassifier(n_neighbors=2)\n",
      "Classifier = Nearest Neighbors, Score (test, accuracy) = 42.03,\n",
      "SVC(C=0.025, kernel='linear')\n",
      "Classifier = Linear SVM, Score (test, accuracy) = 45.81,\n",
      "SVC(C=1, gamma=2)\n",
      "Classifier = RBF SVM, Score (test, accuracy) = 51.94,\n",
      "DecisionTreeClassifier(max_depth=5)\n",
      "Classifier = Decision Tree, Score (test, accuracy) = 46.53,\n",
      "RandomForestClassifier(max_depth=5, max_features=1, n_estimators=10)\n",
      "Classifier = Random Forest, Score (test, accuracy) = 45.81,\n",
      "MLPClassifier(alpha=1, max_iter=1000)\n"
     ]
    },
    {
     "name": "stderr",
     "output_type": "stream",
     "text": [
      "/opt/conda/lib/python3.9/site-packages/sklearn/neural_network/_multilayer_perceptron.py:619: UserWarning: Training interrupted by user.\n",
      "  warnings.warn(\"Training interrupted by user.\")\n"
     ]
    },
    {
     "name": "stdout",
     "output_type": "stream",
     "text": [
      "Classifier = Neural Net, Score (test, accuracy) = 51.07,\n",
      "AdaBoostClassifier()\n",
      "Classifier = AdaBoost, Score (test, accuracy) = 45.81,\n",
      "--------------------------------------------------------------------------------\n",
      "Best --> Classifier = RBF SVM, Score (test, accuracy) = 51.94\n"
     ]
    }
   ],
   "source": [
    "names = [\"Nearest Neighbors\", \"Linear SVM\", \"RBF SVM\", #\"Gaussian Process\",\n",
    "         \"Decision Tree\", \"Random Forest\", \"Neural Net\", \"AdaBoost\"]\n",
    "         #\"Naive Bayes\", \"QDA\"]\n",
    "\n",
    "classifiers = [\n",
    "    KNeighborsClassifier(2),\n",
    "    SVC(kernel=\"linear\", C=0.025),\n",
    "    SVC(gamma=2, C=1),\n",
    "#     GaussianProcessClassifier(1.0 * RBF(1.0)),\n",
    "    DecisionTreeClassifier(max_depth=5),\n",
    "    RandomForestClassifier(max_depth=5, n_estimators=10, max_features=1),\n",
    "    MLPClassifier(alpha=1, max_iter=1000),\n",
    "    AdaBoostClassifier(),\n",
    "    GaussianNB(),\n",
    "    QuadraticDiscriminantAnalysis()]\n",
    "\n",
    "X, y = df['statement'], df['party_affiliation']\n",
    "\n",
    "\n",
    "X_train, X_test, y_train, y_test = \\\n",
    "    train_test_split(X, y, test_size=.2)\n",
    "\n",
    "tfidf = TfidfVectorizer()\n",
    "X_train = tfidf.fit_transform(X_train)\n",
    "\n",
    "X_test = tfidf.transform(X_test)\n",
    "\n",
    "# TODO (Apply): All cross-validation\n",
    "\n",
    "max_score = 0.0\n",
    "max_class = ''\n",
    "# iterate over classifiers\n",
    "for name, clf in zip(names, classifiers):\n",
    "    \n",
    "    print(clf)\n",
    "    \n",
    "    clf.fit(X_train, y_train)\n",
    "    score = 100.0 * clf.score(X_test, y_test)\n",
    "    print('Classifier = %s, Score (test, accuracy) = %.2f,' %(name, score))\n",
    "    \n",
    "    if score > max_score:\n",
    "        clf_best = clf\n",
    "        max_score = score\n",
    "        max_class = name\n",
    "\n",
    "print(80*'-' )\n",
    "print('Best --> Classifier = %s, Score (test, accuracy) = %.2f' %(max_class, max_score))"
   ]
  },
  {
   "cell_type": "code",
   "execution_count": null,
   "id": "4e9bac6b",
   "metadata": {},
   "outputs": [],
   "source": []
  }
 ],
 "metadata": {
  "kernelspec": {
   "display_name": "Python 3 (clean)",
   "language": "python",
   "name": "python3_clean"
  },
  "language_info": {
   "codemirror_mode": {
    "name": "ipython",
    "version": 3
   },
   "file_extension": ".py",
   "mimetype": "text/x-python",
   "name": "python",
   "nbconvert_exporter": "python",
   "pygments_lexer": "ipython3",
   "version": "3.9.5"
  }
 },
 "nbformat": 4,
 "nbformat_minor": 5
}
