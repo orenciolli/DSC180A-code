{
 "cells": [
  {
   "cell_type": "markdown",
   "id": "17fe2b49",
   "metadata": {},
   "source": [
    "# Predicting the veracity of claims in LIAR "
   ]
  },
  {
   "cell_type": "code",
   "execution_count": null,
   "id": "21311408",
   "metadata": {},
   "outputs": [],
   "source": [
    "import pandas as pd\n",
    "import numpy as np\n",
    "\n",
    "import torch\n",
    "import torch.nn as nn\n",
    "import torch.nn.functional as F\n",
    "\n",
    "import torch.optim as optim\n",
    "from torch.utils.data import DataLoader, TensorDataset\n",
    "\n",
    "\n",
    "import transformers as ppb"
   ]
  },
  {
   "cell_type": "code",
   "execution_count": null,
   "id": "53c364b2",
   "metadata": {},
   "outputs": [],
   "source": [
    "df = pd.read_csv('train.tsv', delimiter='\\t', header = None)\n",
    "\n",
    "df.rename({0: 'id', 1: 'label', 2: 'statement', 3: 'subject', 4: 'speaker', 5: 'job-title',\n",
    "           6: 'state_info', 7: 'party_affiliation', 8: 'barely_true_counts', 9: 'false_counts',\n",
    "           10: 'half_true_counts', 11: 'mostly_true_counts', 12: 'pants_on_fire_counts', 13: 'context'\n",
    "          }, axis = 1, inplace = True)"
   ]
  },
  {
   "cell_type": "code",
   "execution_count": null,
   "id": "53ca3734",
   "metadata": {},
   "outputs": [],
   "source": [
    "mapping = {'false': 0, 'half-true': 1, 'mostly-true': 2, 'true': 3, 'barely-true': 4,\n",
    "       'pants-fire': 5}\n",
    "\n",
    "df['label'] = df['label'].replace(mapping)"
   ]
  },
  {
   "cell_type": "code",
   "execution_count": null,
   "id": "80cedc7d",
   "metadata": {},
   "outputs": [],
   "source": [
    "#training on small subset for now\n",
    "batch_1 = df[:1000]"
   ]
  },
  {
   "cell_type": "code",
   "execution_count": null,
   "id": "cde7a182",
   "metadata": {},
   "outputs": [],
   "source": [
    "if torch.cuda.is_available():\n",
    "    device = torch.device(\"cuda:0\")\n",
    "    print('cuda')\n",
    "else:\n",
    "    device = torch.device(\"cpu\")"
   ]
  },
  {
   "cell_type": "code",
   "execution_count": null,
   "id": "ddba1922",
   "metadata": {},
   "outputs": [],
   "source": [
    "from transformers import BertTokenizer, BertForSequenceClassification"
   ]
  },
  {
   "cell_type": "code",
   "execution_count": null,
   "id": "672b56da",
   "metadata": {},
   "outputs": [],
   "source": [
    "tuned_bert = BertForSequenceClassification.from_pretrained(\"bert-base-uncased\", num_labels = 6).to(device)\n",
    "tokenizer = BertTokenizer.from_pretrained(\"bert-base-uncased\")\n",
    "\n",
    "# Tokenize\n",
    "train_texts = list(batch_1['statement'])\n",
    "train_labels = batch_1['label']\n",
    "\n",
    "encoded_data = tokenizer(train_texts, padding=True, \n",
    "                         truncation=True, return_tensors='pt', \n",
    "                         return_attention_mask=True).to(device)\n",
    "\n",
    "\n",
    "\n",
    "# DataLoader\n",
    "train_dataset = TensorDataset(encoded_data.input_ids.to(device),\n",
    "                              encoded_data.attention_mask.to(device), torch.tensor(train_labels).to(device))\n",
    "train_loader = DataLoader(train_dataset, batch_size=32, shuffle=True)\n",
    "\n",
    "\n",
    "# Dropout\n",
    "dropout_rate = 0.6\n",
    "tuned_bert.classifier.dropout = nn.Dropout(p=dropout_rate).to(device)\n",
    "\n",
    "\n",
    "# Fine-tuning\n",
    "optimizer = torch.optim.AdamW(tuned_bert.parameters(), lr=1e-4)\n",
    "criterion = torch.nn.CrossEntropyLoss()\n",
    "epochs = 5\n",
    "\n",
    "for epoch in range(epochs):\n",
    "    tuned_bert.train()\n",
    "    total_loss = 0.0\n",
    "    for batch_input_ids, batch_attention_mask, batch_labels in train_loader:\n",
    "        optimizer.zero_grad()\n",
    "        outputs = tuned_bert(input_ids=batch_input_ids, attention_mask=batch_attention_mask)\n",
    "        loss = criterion(outputs.logits, batch_labels)\n",
    "        loss.backward()\n",
    "        optimizer.step()\n",
    "        total_loss += loss.item()\n",
    "    average_loss = total_loss / len(train_loader)\n",
    "    print(f\"Epoch [{epoch + 1}/{epochs}] Loss: {average_loss:.4f}\")\n",
    "\n",
    "print(\"Training finished\")"
   ]
  },
  {
   "cell_type": "code",
   "execution_count": null,
   "id": "683590be",
   "metadata": {},
   "outputs": [],
   "source": [
    "predicted_labels = []\n",
    "\n",
    "\n",
    "for index, row in batch_1.iterrows():\n",
    "    text = row['statement']\n",
    "\n",
    "    # Encode input text\n",
    "    input_ids = tokenizer.encode(text, add_special_tokens=True, padding=True, truncation=True, return_tensors='pt')\n",
    "    attention_mask = (input_ids != tokenizer.pad_token_id).float()\n",
    "\n",
    "    with torch.no_grad():\n",
    "        tuned_bert.eval()\n",
    "        logits = tuned_bert(input_ids.to(device), attention_mask=attention_mask.to(device)).logits\n",
    "        probabilities = torch.softmax(logits, dim=1)\n",
    "        predicted_class = torch.argmax(probabilities, dim=1).item()\n",
    "        \n",
    "\n",
    "    predicted_labels.append(predicted_class)"
   ]
  },
  {
   "cell_type": "code",
   "execution_count": null,
   "id": "8190c90c",
   "metadata": {},
   "outputs": [],
   "source": [
    "#around 0.9\n",
    "(predicted_labels == batch_1['label']).mean()"
   ]
  },
  {
   "cell_type": "code",
   "execution_count": null,
   "id": "b4399ba4",
   "metadata": {},
   "outputs": [],
   "source": [
    "batch_2 = df[1000:2000]\n",
    "\n",
    "predicted_labels_2 = []\n",
    "\n",
    "for index, row in batch_2.iterrows():\n",
    "    text = row['statement']\n",
    "\n",
    "    # Encode input text\n",
    "    input_ids = tokenizer.encode(text, add_special_tokens=True, padding=True, truncation=True, return_tensors='pt')\n",
    "    attention_mask = (input_ids != tokenizer.pad_token_id).float()\n",
    "\n",
    "    with torch.no_grad():\n",
    "        tuned_bert.eval()\n",
    "        logits = tuned_bert(input_ids.to(device), attention_mask=attention_mask.to(device)).logits\n",
    "        probabilities = torch.softmax(logits, dim=1)\n",
    "        predicted_class = torch.argmax(probabilities, dim=1).item()\n",
    "        \n",
    "\n",
    "    predicted_labels_2.append(predicted_class)\n"
   ]
  },
  {
   "cell_type": "code",
   "execution_count": null,
   "id": "16bed998",
   "metadata": {},
   "outputs": [],
   "source": [
    "#around 0.22, need to revisit and tune!\n",
    "(predicted_labels_2 == batch_2['label']).mean()"
   ]
  }
 ],
 "metadata": {
  "kernelspec": {
   "display_name": "Python 3 (clean)",
   "language": "python",
   "name": "python3_clean"
  },
  "language_info": {
   "codemirror_mode": {
    "name": "ipython",
    "version": 3
   },
   "file_extension": ".py",
   "mimetype": "text/x-python",
   "name": "python",
   "nbconvert_exporter": "python",
   "pygments_lexer": "ipython3",
   "version": "3.9.5"
  }
 },
 "nbformat": 4,
 "nbformat_minor": 5
}
