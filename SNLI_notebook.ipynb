{
 "cells": [
  {
   "cell_type": "code",
   "execution_count": 1,
   "id": "ad2bf879",
   "metadata": {},
   "outputs": [],
   "source": [
    "import pandas as pd\n",
    "import numpy as np"
   ]
  },
  {
   "cell_type": "markdown",
   "id": "8ae5c528",
   "metadata": {},
   "source": [
    "# Data Processing"
   ]
  },
  {
   "cell_type": "code",
   "execution_count": 2,
   "id": "489bc456",
   "metadata": {},
   "outputs": [],
   "source": [
    "df = pd.read_csv('snli_1.0_train.txt', sep = '\\t')"
   ]
  },
  {
   "cell_type": "code",
   "execution_count": 3,
   "id": "ea07d52c",
   "metadata": {},
   "outputs": [],
   "source": [
    "#excluding examples with no majority label, according to dataset description\n",
    "\n",
    "df = df[df['gold_label'] != '-']"
   ]
  },
  {
   "cell_type": "code",
   "execution_count": 4,
   "id": "99bf1de3",
   "metadata": {},
   "outputs": [
    {
     "data": {
      "text/plain": [
       "gold_label\n",
       "entailment       183416\n",
       "contradiction    183187\n",
       "neutral          182764\n",
       "Name: count, dtype: int64"
      ]
     },
     "execution_count": 4,
     "metadata": {},
     "output_type": "execute_result"
    }
   ],
   "source": [
    "df['gold_label'].value_counts()"
   ]
  },
  {
   "cell_type": "code",
   "execution_count": 7,
   "id": "888e27f5",
   "metadata": {},
   "outputs": [],
   "source": [
    "df['gold_label'].replace({\"entailment\": 0, \"neutral\": 1, \"contradiction\": 2}, inplace = True)"
   ]
  },
  {
   "cell_type": "code",
   "execution_count": 23,
   "id": "d2beb899",
   "metadata": {},
   "outputs": [],
   "source": [
    "#training on small subset of the data for now\n",
    "batch_1 = df.sample(n = 5000)"
   ]
  },
  {
   "cell_type": "code",
   "execution_count": 6,
   "id": "ce76f97b",
   "metadata": {},
   "outputs": [],
   "source": [
    "from transformers import BertTokenizer, BertForSequenceClassification, AdamW, get_linear_schedule_with_warmup\n",
    "import torch\n",
    "from torch.utils.data import DataLoader, TensorDataset, RandomSampler, SequentialSampler"
   ]
  },
  {
   "cell_type": "code",
   "execution_count": 24,
   "id": "f0329c6a",
   "metadata": {},
   "outputs": [],
   "source": [
    "tokenizer = BertTokenizer.from_pretrained(\"bert-base-uncased\")\n",
    "\n",
    "\n",
    "def tokenize_premise_hypothesis(premise, hypothesis, tokenizer, max_length):\n",
    "    \n",
    "    combined_text = f\"{premise} $ {hypothesis}\" #similar to Radford paper\n",
    "    \n",
    "    out = tokenizer(combined_text, add_special_tokens=True, truncation=True, \n",
    "                    max_length=max_length, padding=\"max_length\", return_tensors=\"pt\")\n",
    "    return out\n",
    "\n",
    "max_length = 128 \n",
    "\n",
    "\n",
    "inputs = [tokenize_premise_hypothesis(p, h, tokenizer, max_length) \n",
    "          for p, h in zip(batch_1['sentence1'], batch_1['sentence2'])]\n",
    "\n",
    "\n",
    "\n",
    "\n",
    "labels = batch_1['gold_label'].to_numpy()\n",
    "\n",
    "\n",
    "input_ids = torch.cat([entry['input_ids'] for entry in inputs], dim=0)\n",
    "attention_mask = torch.cat([entry['attention_mask'] for entry in inputs], dim=0)\n",
    "labels = torch.tensor(labels)\n",
    "\n",
    "\n",
    "dataset = TensorDataset(input_ids, attention_mask, labels)"
   ]
  },
  {
   "cell_type": "code",
   "execution_count": 12,
   "id": "3362dcb6",
   "metadata": {},
   "outputs": [
    {
     "name": "stdout",
     "output_type": "stream",
     "text": [
      "cuda\n"
     ]
    }
   ],
   "source": [
    "if torch.cuda.is_available():\n",
    "    print ('cuda')\n",
    "    device = 'cuda'\n",
    "else:\n",
    "    device = 'cpu'"
   ]
  },
  {
   "cell_type": "code",
   "execution_count": 25,
   "id": "738678ad",
   "metadata": {},
   "outputs": [
    {
     "name": "stderr",
     "output_type": "stream",
     "text": [
      "Some weights of BertForSequenceClassification were not initialized from the model checkpoint at bert-base-uncased and are newly initialized: ['classifier.weight', 'classifier.bias']\n",
      "You should probably TRAIN this model on a down-stream task to be able to use it for predictions and inference.\n",
      "/home/ociolli/.local/lib/python3.9/site-packages/transformers/optimization.py:411: FutureWarning: This implementation of AdamW is deprecated and will be removed in a future version. Use the PyTorch implementation torch.optim.AdamW instead, or set `no_deprecation_warning=True` to disable this warning\n",
      "  warnings.warn(\n"
     ]
    }
   ],
   "source": [
    "# Load pre-trained BERT model\n",
    "model = BertForSequenceClassification.from_pretrained(\"bert-base-uncased\", num_labels=3).to(device)\n",
    "\n",
    "\n",
    "\n",
    "batch_size = 32\n",
    "num_epochs = 3\n",
    "\n",
    "train_dataloader = DataLoader(dataset, sampler=RandomSampler(dataset), batch_size=batch_size)\n",
    "#val_dataloader = DataLoader(val_dataset, sampler=SequentialSampler(val_dataset), batch_size=batch_size)\n",
    "\n",
    "\n",
    "optimizer = AdamW(model.parameters(), lr=2e-5, eps=1e-8)\n",
    "scheduler = get_linear_schedule_with_warmup(optimizer, num_warmup_steps=0, \n",
    "                                            num_training_steps=len(train_dataloader) * num_epochs)\n",
    "\n",
    "#fine-tuning BERT\n",
    "for epoch in range(num_epochs):\n",
    "    model.train()\n",
    "    for batch in train_dataloader:\n",
    "        input_ids, attention_mask, labels = batch\n",
    "        outputs = model(input_ids.to(device), attention_mask=attention_mask.to(device), \n",
    "                        labels=labels.to(device))\n",
    "        \n",
    "        loss = outputs.loss\n",
    "        loss.backward()\n",
    "        optimizer.step()\n",
    "        scheduler.step()\n",
    "        optimizer.zero_grad()"
   ]
  },
  {
   "cell_type": "code",
   "execution_count": 31,
   "id": "391b41e6",
   "metadata": {},
   "outputs": [],
   "source": [
    "batch_2 = df.sample(n = 10000)"
   ]
  },
  {
   "cell_type": "code",
   "execution_count": 32,
   "id": "dab9cbbc",
   "metadata": {},
   "outputs": [],
   "source": [
    "val_inputs = [tokenize_premise_hypothesis(p, h, tokenizer, max_length) \n",
    "          for p, h in zip(batch_2['sentence1'], batch_2['sentence2'])]\n",
    "\n",
    "\n",
    "\n",
    "\n",
    "val_labels = batch_2['gold_label'].to_numpy()\n",
    "\n",
    "# Create tensors from the inputs and labels\n",
    "val_input_ids = torch.cat([entry['input_ids'] for entry in val_inputs], dim=0)\n",
    "val_attention_mask = torch.cat([entry['attention_mask'] for entry in val_inputs], dim=0)\n",
    "val_labels = torch.tensor(val_labels)\n",
    "\n",
    "\n",
    "val_dataset = TensorDataset(val_input_ids, val_attention_mask, val_labels)"
   ]
  },
  {
   "cell_type": "code",
   "execution_count": 33,
   "id": "32f73fdd",
   "metadata": {},
   "outputs": [],
   "source": [
    "valid_dataloader = DataLoader(val_dataset, batch_size=batch_size)\n"
   ]
  },
  {
   "cell_type": "code",
   "execution_count": 34,
   "id": "d31c9070",
   "metadata": {},
   "outputs": [],
   "source": [
    "model.eval()\n",
    "\n",
    "\n",
    "predictions = [] \n",
    "\n",
    "with torch.no_grad():\n",
    "    for batch in valid_dataloader:\n",
    "        input_ids, attention_mask, labels = batch\n",
    "        outputs = model(input_ids.to(device), attention_mask=attention_mask.to(device))\n",
    "        logits = outputs.logits\n",
    "        predicted_labels = logits.argmax(dim=1)\n",
    "        predictions.extend(predicted_labels.tolist())"
   ]
  },
  {
   "cell_type": "code",
   "execution_count": 35,
   "id": "c3d8ea8f",
   "metadata": {},
   "outputs": [
    {
     "data": {
      "text/plain": [
       "0.7601"
      ]
     },
     "execution_count": 35,
     "metadata": {},
     "output_type": "execute_result"
    }
   ],
   "source": [
    "(np.array(predictions) == val_labels.numpy()).mean()"
   ]
  },
  {
   "cell_type": "code",
   "execution_count": null,
   "id": "0f0ad1f7",
   "metadata": {},
   "outputs": [],
   "source": []
  }
 ],
 "metadata": {
  "kernelspec": {
   "display_name": "Python 3 (ipykernel)",
   "language": "python",
   "name": "python3"
  },
  "language_info": {
   "codemirror_mode": {
    "name": "ipython",
    "version": 3
   },
   "file_extension": ".py",
   "mimetype": "text/x-python",
   "name": "python",
   "nbconvert_exporter": "python",
   "pygments_lexer": "ipython3",
   "version": "3.9.5"
  }
 },
 "nbformat": 4,
 "nbformat_minor": 5
}
